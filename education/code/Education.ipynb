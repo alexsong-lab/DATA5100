{
 "cells": [
  {
   "cell_type": "markdown",
   "metadata": {
    "id": "CT4gTNQTh9n1"
   },
   "source": [
    "# Load and explore the data"
   ]
  },
  {
   "cell_type": "markdown",
   "metadata": {
    "id": "dwvtDMCYlPus"
   },
   "source": [
    "## Import libraries"
   ]
  },
  {
   "cell_type": "code",
   "execution_count": 1,
   "metadata": {
    "id": "DQZAzYri_ru5"
   },
   "outputs": [],
   "source": [
    "# Import pandas, numpy, and matplotlib\n",
    "import pandas as pd\n",
    "import numpy as np\n",
    "import matplotlib.pyplot as plt\n",
    "\n",
    "# seaborn is a data visualization library built on matplotlib\n",
    "import seaborn as sns\n",
    "# set the plotting style\n",
    "sns.set_style(\"whitegrid\")\n",
    "\n",
    "# Model preprocessing\n",
    "from sklearn.preprocessing import StandardScaler\n",
    "\n",
    "# Modeling\n",
    "import statsmodels.formula.api as smf\n",
    "import statsmodels.api as sm\n",
    "\n",
    "# Model metrics and analysis\n",
    "from sklearn.metrics import r2_score, mean_squared_error, mean_absolute_error\n",
    "from statsmodels.stats.anova import anova_lm"
   ]
  },
  {
   "cell_type": "markdown",
   "metadata": {
    "id": "5qccuG8vy7Ja"
   },
   "source": [
    "## Load the data"
   ]
  },
  {
   "cell_type": "markdown",
   "metadata": {
    "id": "eJEcz0yYiY0r"
   },
   "source": [
    "##### Load the EdGap data set"
   ]
  },
  {
   "cell_type": "code",
   "execution_count": 2,
   "metadata": {
    "colab": {
     "base_uri": "https://localhost:8080/"
    },
    "id": "iClV9MZBiY0r",
    "outputId": "b2aaad15-3786-4a15-b83f-2db745e67f14"
   },
   "outputs": [
    {
     "name": "stderr",
     "output_type": "stream",
     "text": [
      "C:\\Users\\alexm\\anaconda3\\Lib\\site-packages\\openpyxl\\worksheet\\_read_only.py:85: UserWarning: Unknown extension is not supported and will be removed\n",
      "  for idx, row in parser.parse():\n"
     ]
    }
   ],
   "source": [
    "edgap = pd.read_excel(\n",
    "    r'C:\\Users\\alexm\\OneDrive - Seattle University\\5100 Project\\DATA5100\\education\\data\\EdGap_data.xlsx',\n",
    "    dtype={'NCESSCH School ID': object}\n",
    ")"
   ]
  },
  {
   "cell_type": "markdown",
   "metadata": {},
   "source": [
    "##### download the school info data"
   ]
  },
  {
   "cell_type": "code",
   "execution_count": 4,
   "metadata": {},
   "outputs": [
    {
     "name": "stderr",
     "output_type": "stream",
     "text": [
      "Warning: No remote file name, uses \"curl_response\"\n",
      "  % Total    % Received % Xferd  Average Speed   Time    Time     Time  Current\n",
      "                                 Dload  Upload   Total   Spent    Left  Speed\n",
      "\n",
      "  0     0    0     0    0     0      0      0 --:--:-- --:--:-- --:--:--     0curl: (6) Could not resolve host: ccd_sch_029_1617_w_1a_11212017.csv\n",
      "  % Total    % Received % Xferd  Average Speed   Time    Time     Time  Current\n",
      "                                 Dload  Upload   Total   Spent    Left  Speed\n",
      "\n",
      "  0     0    0     0    0     0      0      0 --:--:-- --:--:-- --:--:--     0\n",
      "100   151  100   151    0     0    632      0 --:--:-- --:--:-- --:--:--   634\n"
     ]
    },
    {
     "name": "stdout",
     "output_type": "stream",
     "text": [
      "<a href=\"https://www.dropbox.com/scl/fi/o8wf1f534pb4u7uavgjxm/ccd_sch_029_1617_w_1a_11212017.csv?rlkey=k2aey38xie2vz9ge4a0v3rrib&amp;dl=0\">Found</a>.\n",
      "\n"
     ]
    }
   ],
   "source": [
    "!curl -O ccd_sch_029_1617_w_1a_11212017.csv https://www.dropbox.com/s/lkl5nvcdmwyoban/ccd_sch_029_1617_w_1a_11212017.csv?dl=0"
   ]
  },
  {
   "cell_type": "markdown",
   "metadata": {
    "id": "MlPAuG-4-EEy"
   },
   "source": [
    "##### Load the school information data in pandas"
   ]
  },
  {
   "cell_type": "code",
   "execution_count": 3,
   "metadata": {
    "colab": {
     "base_uri": "https://localhost:8080/"
    },
    "id": "2pMtbuWRQG0-",
    "outputId": "1debeb34-5a62-4198-80c8-1c3ec765e83d"
   },
   "outputs": [
    {
     "name": "stderr",
     "output_type": "stream",
     "text": [
      "C:\\Users\\alexm\\AppData\\Local\\Temp\\ipykernel_18580\\3224356327.py:1: DtypeWarning: Columns (6,9,14,15,18,19,21,22,25,26,29,31,35,39,41,42) have mixed types. Specify dtype option on import or set low_memory=False.\n",
      "  school_information = pd.read_csv(\n"
     ]
    }
   ],
   "source": [
    "school_information = pd.read_csv(\n",
    "    r'C:\\Users\\alexm\\OneDrive - Seattle University\\5100 Project\\DATA5100\\education\\data\\ccd_sch_029_1617_w_1a_11212017.csv',\n",
    "    encoding=\"unicode_escape\"\n",
    ")"
   ]
  },
  {
   "cell_type": "markdown",
   "metadata": {
    "id": "OHVSgzXFd4nf"
   },
   "source": [
    "## Explore the contents of the data sets"
   ]
  },
  {
   "cell_type": "markdown",
   "metadata": {
    "id": "gYxy4Sy6d9_j"
   },
   "source": [
    "##### Start by looking at the head of each data frame.\n",
    "This will let us see the names of the columns and a few example values for each column. We can also check whether the data is in tidy format."
   ]
  },
  {
   "cell_type": "code",
   "execution_count": 4,
   "metadata": {
    "colab": {
     "base_uri": "https://localhost:8080/",
     "height": 241
    },
    "id": "wOhmyXJhd9NF",
    "outputId": "c885c449-a82a-4776-c46b-b204fcef2a86"
   },
   "outputs": [
    {
     "data": {
      "text/html": [
       "<div>\n",
       "<style scoped>\n",
       "    .dataframe tbody tr th:only-of-type {\n",
       "        vertical-align: middle;\n",
       "    }\n",
       "\n",
       "    .dataframe tbody tr th {\n",
       "        vertical-align: top;\n",
       "    }\n",
       "\n",
       "    .dataframe thead th {\n",
       "        text-align: right;\n",
       "    }\n",
       "</style>\n",
       "<table border=\"1\" class=\"dataframe\">\n",
       "  <thead>\n",
       "    <tr style=\"text-align: right;\">\n",
       "      <th></th>\n",
       "      <th>NCESSCH School ID</th>\n",
       "      <th>CT Unemployment Rate</th>\n",
       "      <th>CT Pct Adults with College Degree</th>\n",
       "      <th>CT Pct Childre In Married Couple Family</th>\n",
       "      <th>CT Median Household Income</th>\n",
       "      <th>School ACT average (or equivalent if SAT score)</th>\n",
       "      <th>School Pct Free and Reduced Lunch</th>\n",
       "    </tr>\n",
       "  </thead>\n",
       "  <tbody>\n",
       "    <tr>\n",
       "      <th>0</th>\n",
       "      <td>100001600143</td>\n",
       "      <td>0.117962</td>\n",
       "      <td>0.445283</td>\n",
       "      <td>0.346495</td>\n",
       "      <td>42820.0</td>\n",
       "      <td>20.433455</td>\n",
       "      <td>0.066901</td>\n",
       "    </tr>\n",
       "    <tr>\n",
       "      <th>1</th>\n",
       "      <td>100008000024</td>\n",
       "      <td>0.063984</td>\n",
       "      <td>0.662765</td>\n",
       "      <td>0.767619</td>\n",
       "      <td>89320.0</td>\n",
       "      <td>19.498168</td>\n",
       "      <td>0.112412</td>\n",
       "    </tr>\n",
       "    <tr>\n",
       "      <th>2</th>\n",
       "      <td>100008000225</td>\n",
       "      <td>0.056460</td>\n",
       "      <td>0.701864</td>\n",
       "      <td>0.713090</td>\n",
       "      <td>84140.0</td>\n",
       "      <td>19.554335</td>\n",
       "      <td>0.096816</td>\n",
       "    </tr>\n",
       "  </tbody>\n",
       "</table>\n",
       "</div>"
      ],
      "text/plain": [
       "  NCESSCH School ID  CT Unemployment Rate  CT Pct Adults with College Degree  \\\n",
       "0      100001600143              0.117962                           0.445283   \n",
       "1      100008000024              0.063984                           0.662765   \n",
       "2      100008000225              0.056460                           0.701864   \n",
       "\n",
       "   CT Pct Childre In Married Couple Family  CT Median Household Income  \\\n",
       "0                                 0.346495                     42820.0   \n",
       "1                                 0.767619                     89320.0   \n",
       "2                                 0.713090                     84140.0   \n",
       "\n",
       "   School ACT average (or equivalent if SAT score)  \\\n",
       "0                                        20.433455   \n",
       "1                                        19.498168   \n",
       "2                                        19.554335   \n",
       "\n",
       "   School Pct Free and Reduced Lunch  \n",
       "0                           0.066901  \n",
       "1                           0.112412  \n",
       "2                           0.096816  "
      ]
     },
     "execution_count": 4,
     "metadata": {},
     "output_type": "execute_result"
    }
   ],
   "source": [
    "edgap.head(3)"
   ]
  },
  {
   "cell_type": "markdown",
   "metadata": {
    "id": "9H3OHap3Bxb4"
   },
   "source": [
    "##### School information data set"
   ]
  },
  {
   "cell_type": "code",
   "execution_count": 5,
   "metadata": {
    "colab": {
     "base_uri": "https://localhost:8080/",
     "height": 481
    },
    "id": "8-HRWZdPeCAI",
    "outputId": "0dc9aec9-fd64-4b66-ca0a-4fde3f182779"
   },
   "outputs": [
    {
     "data": {
      "text/html": [
       "<div>\n",
       "<style scoped>\n",
       "    .dataframe tbody tr th:only-of-type {\n",
       "        vertical-align: middle;\n",
       "    }\n",
       "\n",
       "    .dataframe tbody tr th {\n",
       "        vertical-align: top;\n",
       "    }\n",
       "\n",
       "    .dataframe thead th {\n",
       "        text-align: right;\n",
       "    }\n",
       "</style>\n",
       "<table border=\"1\" class=\"dataframe\">\n",
       "  <thead>\n",
       "    <tr style=\"text-align: right;\">\n",
       "      <th></th>\n",
       "      <th>SCHOOL_YEAR</th>\n",
       "      <th>FIPST</th>\n",
       "      <th>STATENAME</th>\n",
       "      <th>ST</th>\n",
       "      <th>SCH_NAME</th>\n",
       "      <th>LEA_NAME</th>\n",
       "      <th>STATE_AGENCY_NO</th>\n",
       "      <th>UNION</th>\n",
       "      <th>ST_LEAID</th>\n",
       "      <th>LEAID</th>\n",
       "      <th>...</th>\n",
       "      <th>G_10_OFFERED</th>\n",
       "      <th>G_11_OFFERED</th>\n",
       "      <th>G_12_OFFERED</th>\n",
       "      <th>G_13_OFFERED</th>\n",
       "      <th>G_UG_OFFERED</th>\n",
       "      <th>G_AE_OFFERED</th>\n",
       "      <th>GSLO</th>\n",
       "      <th>GSHI</th>\n",
       "      <th>LEVEL</th>\n",
       "      <th>IGOFFERED</th>\n",
       "    </tr>\n",
       "  </thead>\n",
       "  <tbody>\n",
       "    <tr>\n",
       "      <th>0</th>\n",
       "      <td>2016-2017</td>\n",
       "      <td>1</td>\n",
       "      <td>ALABAMA</td>\n",
       "      <td>AL</td>\n",
       "      <td>Sequoyah Sch - Chalkville Campus</td>\n",
       "      <td>Alabama Youth Services</td>\n",
       "      <td>1</td>\n",
       "      <td>NaN</td>\n",
       "      <td>AL-210</td>\n",
       "      <td>100002</td>\n",
       "      <td>...</td>\n",
       "      <td>Yes</td>\n",
       "      <td>Yes</td>\n",
       "      <td>Yes</td>\n",
       "      <td>No</td>\n",
       "      <td>No</td>\n",
       "      <td>No</td>\n",
       "      <td>07</td>\n",
       "      <td>12</td>\n",
       "      <td>High</td>\n",
       "      <td>As reported</td>\n",
       "    </tr>\n",
       "    <tr>\n",
       "      <th>1</th>\n",
       "      <td>2016-2017</td>\n",
       "      <td>1</td>\n",
       "      <td>ALABAMA</td>\n",
       "      <td>AL</td>\n",
       "      <td>Camps</td>\n",
       "      <td>Alabama Youth Services</td>\n",
       "      <td>1</td>\n",
       "      <td>NaN</td>\n",
       "      <td>AL-210</td>\n",
       "      <td>100002</td>\n",
       "      <td>...</td>\n",
       "      <td>Yes</td>\n",
       "      <td>Yes</td>\n",
       "      <td>Yes</td>\n",
       "      <td>No</td>\n",
       "      <td>No</td>\n",
       "      <td>No</td>\n",
       "      <td>07</td>\n",
       "      <td>12</td>\n",
       "      <td>High</td>\n",
       "      <td>As reported</td>\n",
       "    </tr>\n",
       "    <tr>\n",
       "      <th>2</th>\n",
       "      <td>2016-2017</td>\n",
       "      <td>1</td>\n",
       "      <td>ALABAMA</td>\n",
       "      <td>AL</td>\n",
       "      <td>Det Ctr</td>\n",
       "      <td>Alabama Youth Services</td>\n",
       "      <td>1</td>\n",
       "      <td>NaN</td>\n",
       "      <td>AL-210</td>\n",
       "      <td>100002</td>\n",
       "      <td>...</td>\n",
       "      <td>Yes</td>\n",
       "      <td>Yes</td>\n",
       "      <td>Yes</td>\n",
       "      <td>No</td>\n",
       "      <td>No</td>\n",
       "      <td>No</td>\n",
       "      <td>07</td>\n",
       "      <td>12</td>\n",
       "      <td>High</td>\n",
       "      <td>As reported</td>\n",
       "    </tr>\n",
       "  </tbody>\n",
       "</table>\n",
       "<p>3 rows × 65 columns</p>\n",
       "</div>"
      ],
      "text/plain": [
       "  SCHOOL_YEAR  FIPST STATENAME  ST                          SCH_NAME  \\\n",
       "0   2016-2017      1   ALABAMA  AL  Sequoyah Sch - Chalkville Campus   \n",
       "1   2016-2017      1   ALABAMA  AL                             Camps   \n",
       "2   2016-2017      1   ALABAMA  AL                           Det Ctr   \n",
       "\n",
       "                 LEA_NAME STATE_AGENCY_NO  UNION ST_LEAID   LEAID  ...  \\\n",
       "0  Alabama Youth Services               1    NaN   AL-210  100002  ...   \n",
       "1  Alabama Youth Services               1    NaN   AL-210  100002  ...   \n",
       "2  Alabama Youth Services               1    NaN   AL-210  100002  ...   \n",
       "\n",
       "  G_10_OFFERED  G_11_OFFERED  G_12_OFFERED G_13_OFFERED G_UG_OFFERED  \\\n",
       "0          Yes           Yes           Yes           No           No   \n",
       "1          Yes           Yes           Yes           No           No   \n",
       "2          Yes           Yes           Yes           No           No   \n",
       "\n",
       "  G_AE_OFFERED GSLO GSHI LEVEL    IGOFFERED  \n",
       "0           No   07   12  High  As reported  \n",
       "1           No   07   12  High  As reported  \n",
       "2           No   07   12  High  As reported  \n",
       "\n",
       "[3 rows x 65 columns]"
      ]
     },
     "execution_count": 5,
     "metadata": {},
     "output_type": "execute_result"
    }
   ],
   "source": [
    "school_information.head(3)"
   ]
  },
  {
   "cell_type": "code",
   "execution_count": 8,
   "metadata": {
    "colab": {
     "base_uri": "https://localhost:8080/",
     "height": 452
    },
    "id": "ffepwdY4knvc",
    "outputId": "671224ba-8de5-4afe-bdc6-f972dbb7e1f2"
   },
   "outputs": [
    {
     "data": {
      "text/html": [
       "<div>\n",
       "<style scoped>\n",
       "    .dataframe tbody tr th:only-of-type {\n",
       "        vertical-align: middle;\n",
       "    }\n",
       "\n",
       "    .dataframe tbody tr th {\n",
       "        vertical-align: top;\n",
       "    }\n",
       "\n",
       "    .dataframe thead th {\n",
       "        text-align: right;\n",
       "    }\n",
       "</style>\n",
       "<table border=\"1\" class=\"dataframe\">\n",
       "  <thead>\n",
       "    <tr style=\"text-align: right;\">\n",
       "      <th></th>\n",
       "      <th>SCHOOL_YEAR</th>\n",
       "      <th>FIPST</th>\n",
       "      <th>STATENAME</th>\n",
       "      <th>ST</th>\n",
       "      <th>SCH_NAME</th>\n",
       "      <th>LEA_NAME</th>\n",
       "      <th>STATE_AGENCY_NO</th>\n",
       "      <th>UNION</th>\n",
       "      <th>ST_LEAID</th>\n",
       "      <th>LEAID</th>\n",
       "      <th>ST_SCHID</th>\n",
       "      <th>NCESSCH</th>\n",
       "      <th>SCHID</th>\n",
       "      <th>MSTREET1</th>\n",
       "      <th>MSTREET2</th>\n",
       "      <th>MSTREET3</th>\n",
       "      <th>MCITY</th>\n",
       "      <th>MSTATE</th>\n",
       "      <th>MZIP</th>\n",
       "      <th>MZIP4</th>\n",
       "      <th>LSTREET1</th>\n",
       "      <th>LSTREET2</th>\n",
       "      <th>LSTREET3</th>\n",
       "      <th>LCITY</th>\n",
       "      <th>LSTATE</th>\n",
       "      <th>LZIP</th>\n",
       "      <th>LZIP4</th>\n",
       "      <th>PHONE</th>\n",
       "      <th>WEBSITE</th>\n",
       "      <th>SY_STATUS</th>\n",
       "      <th>SY_STATUS_TEXT</th>\n",
       "      <th>UPDATED_STATUS</th>\n",
       "      <th>UPDATED_STATUS_TEXT</th>\n",
       "      <th>EFFECTIVE_DATE</th>\n",
       "      <th>SCH_TYPE_TEXT</th>\n",
       "      <th>SCH_TYPE</th>\n",
       "      <th>RECON_STATUS</th>\n",
       "      <th>OUT_OF_STATE_FLAG</th>\n",
       "      <th>CHARTER_TEXT</th>\n",
       "      <th>CHARTAUTH1</th>\n",
       "      <th>CHARTAUTHN1</th>\n",
       "      <th>CHARTAUTH2</th>\n",
       "      <th>CHARTAUTHN2</th>\n",
       "      <th>NOGRADES</th>\n",
       "      <th>G_PK_OFFERED</th>\n",
       "      <th>G_KG_OFFERED</th>\n",
       "      <th>G_1_OFFERED</th>\n",
       "      <th>G_2_OFFERED</th>\n",
       "      <th>G_3_OFFERED</th>\n",
       "      <th>G_4_OFFERED</th>\n",
       "      <th>G_5_OFFERED</th>\n",
       "      <th>G_6_OFFERED</th>\n",
       "      <th>G_7_OFFERED</th>\n",
       "      <th>G_8_OFFERED</th>\n",
       "      <th>G_9_OFFERED</th>\n",
       "      <th>G_10_OFFERED</th>\n",
       "      <th>G_11_OFFERED</th>\n",
       "      <th>G_12_OFFERED</th>\n",
       "      <th>G_13_OFFERED</th>\n",
       "      <th>G_UG_OFFERED</th>\n",
       "      <th>G_AE_OFFERED</th>\n",
       "      <th>GSLO</th>\n",
       "      <th>GSHI</th>\n",
       "      <th>LEVEL</th>\n",
       "      <th>IGOFFERED</th>\n",
       "    </tr>\n",
       "  </thead>\n",
       "  <tbody>\n",
       "    <tr>\n",
       "      <th>0</th>\n",
       "      <td>2016-2017</td>\n",
       "      <td>1</td>\n",
       "      <td>ALABAMA</td>\n",
       "      <td>AL</td>\n",
       "      <td>Sequoyah Sch - Chalkville Campus</td>\n",
       "      <td>Alabama Youth Services</td>\n",
       "      <td>1</td>\n",
       "      <td>NaN</td>\n",
       "      <td>AL-210</td>\n",
       "      <td>100002</td>\n",
       "      <td>AL-210-0020</td>\n",
       "      <td>1.000020e+10</td>\n",
       "      <td>100277.0</td>\n",
       "      <td>P O Box 9486</td>\n",
       "      <td>NaN</td>\n",
       "      <td>NaN</td>\n",
       "      <td>Birmingham</td>\n",
       "      <td>AL</td>\n",
       "      <td>35220</td>\n",
       "      <td>NaN</td>\n",
       "      <td>1000 Industrial School Road</td>\n",
       "      <td>NaN</td>\n",
       "      <td>NaN</td>\n",
       "      <td>Birmingham</td>\n",
       "      <td>AL</td>\n",
       "      <td>35220</td>\n",
       "      <td>NaN</td>\n",
       "      <td>(205)680-8574</td>\n",
       "      <td>http://www.dys.alabama.gov</td>\n",
       "      <td>1</td>\n",
       "      <td>Open</td>\n",
       "      <td>1</td>\n",
       "      <td>Open</td>\n",
       "      <td>03/03/2010</td>\n",
       "      <td>Alternative School</td>\n",
       "      <td>4</td>\n",
       "      <td>No</td>\n",
       "      <td>No</td>\n",
       "      <td>No</td>\n",
       "      <td>NaN</td>\n",
       "      <td>NaN</td>\n",
       "      <td>NaN</td>\n",
       "      <td>NaN</td>\n",
       "      <td>No</td>\n",
       "      <td>No</td>\n",
       "      <td>No</td>\n",
       "      <td>No</td>\n",
       "      <td>No</td>\n",
       "      <td>No</td>\n",
       "      <td>No</td>\n",
       "      <td>No</td>\n",
       "      <td>No</td>\n",
       "      <td>Yes</td>\n",
       "      <td>Yes</td>\n",
       "      <td>Yes</td>\n",
       "      <td>Yes</td>\n",
       "      <td>Yes</td>\n",
       "      <td>Yes</td>\n",
       "      <td>No</td>\n",
       "      <td>No</td>\n",
       "      <td>No</td>\n",
       "      <td>07</td>\n",
       "      <td>12</td>\n",
       "      <td>High</td>\n",
       "      <td>As reported</td>\n",
       "    </tr>\n",
       "    <tr>\n",
       "      <th>1</th>\n",
       "      <td>2016-2017</td>\n",
       "      <td>1</td>\n",
       "      <td>ALABAMA</td>\n",
       "      <td>AL</td>\n",
       "      <td>Camps</td>\n",
       "      <td>Alabama Youth Services</td>\n",
       "      <td>1</td>\n",
       "      <td>NaN</td>\n",
       "      <td>AL-210</td>\n",
       "      <td>100002</td>\n",
       "      <td>AL-210-0050</td>\n",
       "      <td>1.000020e+10</td>\n",
       "      <td>101667.0</td>\n",
       "      <td>P O Box 66</td>\n",
       "      <td>NaN</td>\n",
       "      <td>NaN</td>\n",
       "      <td>Mt Meigs</td>\n",
       "      <td>AL</td>\n",
       "      <td>36057</td>\n",
       "      <td>NaN</td>\n",
       "      <td>1601 County Rd. 57</td>\n",
       "      <td>NaN</td>\n",
       "      <td>NaN</td>\n",
       "      <td>Prattville</td>\n",
       "      <td>AL</td>\n",
       "      <td>36067</td>\n",
       "      <td>NaN</td>\n",
       "      <td>(334)215-3850</td>\n",
       "      <td>http://www.dys.alabama.gov</td>\n",
       "      <td>1</td>\n",
       "      <td>Open</td>\n",
       "      <td>1</td>\n",
       "      <td>Open</td>\n",
       "      <td>03/03/2010</td>\n",
       "      <td>Alternative School</td>\n",
       "      <td>4</td>\n",
       "      <td>No</td>\n",
       "      <td>No</td>\n",
       "      <td>No</td>\n",
       "      <td>NaN</td>\n",
       "      <td>NaN</td>\n",
       "      <td>NaN</td>\n",
       "      <td>NaN</td>\n",
       "      <td>No</td>\n",
       "      <td>No</td>\n",
       "      <td>No</td>\n",
       "      <td>No</td>\n",
       "      <td>No</td>\n",
       "      <td>No</td>\n",
       "      <td>No</td>\n",
       "      <td>No</td>\n",
       "      <td>No</td>\n",
       "      <td>Yes</td>\n",
       "      <td>Yes</td>\n",
       "      <td>Yes</td>\n",
       "      <td>Yes</td>\n",
       "      <td>Yes</td>\n",
       "      <td>Yes</td>\n",
       "      <td>No</td>\n",
       "      <td>No</td>\n",
       "      <td>No</td>\n",
       "      <td>07</td>\n",
       "      <td>12</td>\n",
       "      <td>High</td>\n",
       "      <td>As reported</td>\n",
       "    </tr>\n",
       "    <tr>\n",
       "      <th>2</th>\n",
       "      <td>2016-2017</td>\n",
       "      <td>1</td>\n",
       "      <td>ALABAMA</td>\n",
       "      <td>AL</td>\n",
       "      <td>Det Ctr</td>\n",
       "      <td>Alabama Youth Services</td>\n",
       "      <td>1</td>\n",
       "      <td>NaN</td>\n",
       "      <td>AL-210</td>\n",
       "      <td>100002</td>\n",
       "      <td>AL-210-0060</td>\n",
       "      <td>1.000020e+10</td>\n",
       "      <td>101670.0</td>\n",
       "      <td>P O Box 66</td>\n",
       "      <td>NaN</td>\n",
       "      <td>NaN</td>\n",
       "      <td>Mt Meigs</td>\n",
       "      <td>AL</td>\n",
       "      <td>36057</td>\n",
       "      <td>NaN</td>\n",
       "      <td>2109 Bashi Rd Bldg 509</td>\n",
       "      <td>NaN</td>\n",
       "      <td>NaN</td>\n",
       "      <td>Thomasville</td>\n",
       "      <td>AL</td>\n",
       "      <td>36784</td>\n",
       "      <td>NaN</td>\n",
       "      <td>(334)215-3850</td>\n",
       "      <td>http://www.dys.alabama.gov</td>\n",
       "      <td>1</td>\n",
       "      <td>Open</td>\n",
       "      <td>1</td>\n",
       "      <td>Open</td>\n",
       "      <td>03/03/2010</td>\n",
       "      <td>Alternative School</td>\n",
       "      <td>4</td>\n",
       "      <td>No</td>\n",
       "      <td>No</td>\n",
       "      <td>No</td>\n",
       "      <td>NaN</td>\n",
       "      <td>NaN</td>\n",
       "      <td>NaN</td>\n",
       "      <td>NaN</td>\n",
       "      <td>No</td>\n",
       "      <td>No</td>\n",
       "      <td>No</td>\n",
       "      <td>No</td>\n",
       "      <td>No</td>\n",
       "      <td>No</td>\n",
       "      <td>No</td>\n",
       "      <td>No</td>\n",
       "      <td>No</td>\n",
       "      <td>Yes</td>\n",
       "      <td>Yes</td>\n",
       "      <td>Yes</td>\n",
       "      <td>Yes</td>\n",
       "      <td>Yes</td>\n",
       "      <td>Yes</td>\n",
       "      <td>No</td>\n",
       "      <td>No</td>\n",
       "      <td>No</td>\n",
       "      <td>07</td>\n",
       "      <td>12</td>\n",
       "      <td>High</td>\n",
       "      <td>As reported</td>\n",
       "    </tr>\n",
       "  </tbody>\n",
       "</table>\n",
       "</div>"
      ],
      "text/plain": [
       "  SCHOOL_YEAR  FIPST STATENAME  ST                          SCH_NAME  \\\n",
       "0   2016-2017      1   ALABAMA  AL  Sequoyah Sch - Chalkville Campus   \n",
       "1   2016-2017      1   ALABAMA  AL                             Camps   \n",
       "2   2016-2017      1   ALABAMA  AL                           Det Ctr   \n",
       "\n",
       "                 LEA_NAME STATE_AGENCY_NO  UNION ST_LEAID   LEAID  \\\n",
       "0  Alabama Youth Services               1    NaN   AL-210  100002   \n",
       "1  Alabama Youth Services               1    NaN   AL-210  100002   \n",
       "2  Alabama Youth Services               1    NaN   AL-210  100002   \n",
       "\n",
       "      ST_SCHID       NCESSCH     SCHID      MSTREET1 MSTREET2 MSTREET3  \\\n",
       "0  AL-210-0020  1.000020e+10  100277.0  P O Box 9486      NaN      NaN   \n",
       "1  AL-210-0050  1.000020e+10  101667.0    P O Box 66      NaN      NaN   \n",
       "2  AL-210-0060  1.000020e+10  101670.0    P O Box 66      NaN      NaN   \n",
       "\n",
       "        MCITY MSTATE   MZIP MZIP4                     LSTREET1 LSTREET2  \\\n",
       "0  Birmingham     AL  35220   NaN  1000 Industrial School Road      NaN   \n",
       "1    Mt Meigs     AL  36057   NaN           1601 County Rd. 57      NaN   \n",
       "2    Mt Meigs     AL  36057   NaN       2109 Bashi Rd Bldg 509      NaN   \n",
       "\n",
       "  LSTREET3        LCITY LSTATE   LZIP LZIP4          PHONE  \\\n",
       "0      NaN   Birmingham     AL  35220   NaN  (205)680-8574   \n",
       "1      NaN   Prattville     AL  36067   NaN  (334)215-3850   \n",
       "2      NaN  Thomasville     AL  36784   NaN  (334)215-3850   \n",
       "\n",
       "                      WEBSITE SY_STATUS SY_STATUS_TEXT UPDATED_STATUS  \\\n",
       "0  http://www.dys.alabama.gov         1           Open              1   \n",
       "1  http://www.dys.alabama.gov         1           Open              1   \n",
       "2  http://www.dys.alabama.gov         1           Open              1   \n",
       "\n",
       "  UPDATED_STATUS_TEXT EFFECTIVE_DATE       SCH_TYPE_TEXT SCH_TYPE  \\\n",
       "0                Open     03/03/2010  Alternative School        4   \n",
       "1                Open     03/03/2010  Alternative School        4   \n",
       "2                Open     03/03/2010  Alternative School        4   \n",
       "\n",
       "  RECON_STATUS OUT_OF_STATE_FLAG CHARTER_TEXT CHARTAUTH1 CHARTAUTHN1  \\\n",
       "0           No                No           No        NaN         NaN   \n",
       "1           No                No           No        NaN         NaN   \n",
       "2           No                No           No        NaN         NaN   \n",
       "\n",
       "  CHARTAUTH2 CHARTAUTHN2 NOGRADES G_PK_OFFERED G_KG_OFFERED G_1_OFFERED  \\\n",
       "0        NaN         NaN       No           No           No          No   \n",
       "1        NaN         NaN       No           No           No          No   \n",
       "2        NaN         NaN       No           No           No          No   \n",
       "\n",
       "  G_2_OFFERED G_3_OFFERED G_4_OFFERED G_5_OFFERED G_6_OFFERED G_7_OFFERED  \\\n",
       "0          No          No          No          No          No         Yes   \n",
       "1          No          No          No          No          No         Yes   \n",
       "2          No          No          No          No          No         Yes   \n",
       "\n",
       "  G_8_OFFERED G_9_OFFERED G_10_OFFERED G_11_OFFERED G_12_OFFERED G_13_OFFERED  \\\n",
       "0         Yes         Yes          Yes          Yes          Yes           No   \n",
       "1         Yes         Yes          Yes          Yes          Yes           No   \n",
       "2         Yes         Yes          Yes          Yes          Yes           No   \n",
       "\n",
       "  G_UG_OFFERED G_AE_OFFERED GSLO GSHI LEVEL    IGOFFERED  \n",
       "0           No           No   07   12  High  As reported  \n",
       "1           No           No   07   12  High  As reported  \n",
       "2           No           No   07   12  High  As reported  "
      ]
     },
     "execution_count": 8,
     "metadata": {},
     "output_type": "execute_result"
    }
   ],
   "source": [
    "pd.set_option('display.max_columns', None)\n",
    "\n",
    "school_information.head(3)"
   ]
  },
  {
   "cell_type": "markdown",
   "metadata": {
    "id": "e0IEtgl8eRkv"
   },
   "source": [
    "##### Use the `info` method to check the data types, size of the data frame, and numbers of missing values."
   ]
  },
  {
   "cell_type": "code",
   "execution_count": 9,
   "metadata": {
    "colab": {
     "base_uri": "https://localhost:8080/"
    },
    "id": "S-dHnf19eSSf",
    "outputId": "650e64f8-ceda-4c10-eed2-9f6f7deca5c1"
   },
   "outputs": [
    {
     "name": "stdout",
     "output_type": "stream",
     "text": [
      "<class 'pandas.core.frame.DataFrame'>\n",
      "RangeIndex: 7986 entries, 0 to 7985\n",
      "Data columns (total 7 columns):\n",
      " #   Column                                           Non-Null Count  Dtype  \n",
      "---  ------                                           --------------  -----  \n",
      " 0   NCESSCH School ID                                7986 non-null   object \n",
      " 1   CT Unemployment Rate                             7972 non-null   float64\n",
      " 2   CT Pct Adults with College Degree                7973 non-null   float64\n",
      " 3   CT Pct Childre In Married Couple Family          7961 non-null   float64\n",
      " 4   CT Median Household Income                       7966 non-null   float64\n",
      " 5   School ACT average (or equivalent if SAT score)  7986 non-null   float64\n",
      " 6   School Pct Free and Reduced Lunch                7986 non-null   float64\n",
      "dtypes: float64(6), object(1)\n",
      "memory usage: 436.9+ KB\n"
     ]
    }
   ],
   "source": [
    "edgap.info()"
   ]
  },
  {
   "cell_type": "markdown",
   "metadata": {
    "id": "n9ZuQl9HB-mA"
   },
   "source": [
    "##### School information data set"
   ]
  },
  {
   "cell_type": "code",
   "execution_count": 10,
   "metadata": {
    "colab": {
     "base_uri": "https://localhost:8080/"
    },
    "id": "KGLg7p04exIM",
    "outputId": "3a63e220-012e-404f-e7fb-e3bfaaf85457"
   },
   "outputs": [
    {
     "name": "stdout",
     "output_type": "stream",
     "text": [
      "<class 'pandas.core.frame.DataFrame'>\n",
      "RangeIndex: 102183 entries, 0 to 102182\n",
      "Data columns (total 65 columns):\n",
      " #   Column               Non-Null Count   Dtype  \n",
      "---  ------               --------------   -----  \n",
      " 0   SCHOOL_YEAR          102183 non-null  object \n",
      " 1   FIPST                102183 non-null  int64  \n",
      " 2   STATENAME            102183 non-null  object \n",
      " 3   ST                   102183 non-null  object \n",
      " 4   SCH_NAME             102183 non-null  object \n",
      " 5   LEA_NAME             102183 non-null  object \n",
      " 6   STATE_AGENCY_NO      102183 non-null  object \n",
      " 7   UNION                2533 non-null    float64\n",
      " 8   ST_LEAID             102183 non-null  object \n",
      " 9   LEAID                102183 non-null  object \n",
      " 10  ST_SCHID             102183 non-null  object \n",
      " 11  NCESSCH              102181 non-null  float64\n",
      " 12  SCHID                102181 non-null  float64\n",
      " 13  MSTREET1             102181 non-null  object \n",
      " 14  MSTREET2             1825 non-null    object \n",
      " 15  MSTREET3             28 non-null      object \n",
      " 16  MCITY                102183 non-null  object \n",
      " 17  MSTATE               102183 non-null  object \n",
      " 18  MZIP                 102183 non-null  object \n",
      " 19  MZIP4                60419 non-null   object \n",
      " 20  LSTREET1             102183 non-null  object \n",
      " 21  LSTREET2             582 non-null     object \n",
      " 22  LSTREET3             13 non-null      object \n",
      " 23  LCITY                102183 non-null  object \n",
      " 24  LSTATE               102183 non-null  object \n",
      " 25  LZIP                 102183 non-null  object \n",
      " 26  LZIP4                59145 non-null   object \n",
      " 27  PHONE                102183 non-null  object \n",
      " 28  WEBSITE              51983 non-null   object \n",
      " 29  SY_STATUS            102181 non-null  object \n",
      " 30  SY_STATUS_TEXT       102181 non-null  object \n",
      " 31  UPDATED_STATUS       102181 non-null  object \n",
      " 32  UPDATED_STATUS_TEXT  102181 non-null  object \n",
      " 33  EFFECTIVE_DATE       102181 non-null  object \n",
      " 34  SCH_TYPE_TEXT        102181 non-null  object \n",
      " 35  SCH_TYPE             102181 non-null  object \n",
      " 36  RECON_STATUS         102181 non-null  object \n",
      " 37  OUT_OF_STATE_FLAG    102179 non-null  object \n",
      " 38  CHARTER_TEXT         102179 non-null  object \n",
      " 39  CHARTAUTH1           6687 non-null    object \n",
      " 40  CHARTAUTHN1          6687 non-null    object \n",
      " 41  CHARTAUTH2           116 non-null     object \n",
      " 42  CHARTAUTHN2          116 non-null     object \n",
      " 43  NOGRADES             102179 non-null  object \n",
      " 44  G_PK_OFFERED         102179 non-null  object \n",
      " 45  G_KG_OFFERED         102179 non-null  object \n",
      " 46  G_1_OFFERED          102179 non-null  object \n",
      " 47  G_2_OFFERED          102179 non-null  object \n",
      " 48  G_3_OFFERED          102179 non-null  object \n",
      " 49  G_4_OFFERED          102179 non-null  object \n",
      " 50  G_5_OFFERED          102179 non-null  object \n",
      " 51  G_6_OFFERED          102179 non-null  object \n",
      " 52  G_7_OFFERED          102179 non-null  object \n",
      " 53  G_8_OFFERED          102179 non-null  object \n",
      " 54  G_9_OFFERED          102179 non-null  object \n",
      " 55  G_10_OFFERED         102179 non-null  object \n",
      " 56  G_11_OFFERED         102179 non-null  object \n",
      " 57  G_12_OFFERED         102179 non-null  object \n",
      " 58  G_13_OFFERED         102179 non-null  object \n",
      " 59  G_UG_OFFERED         102179 non-null  object \n",
      " 60  G_AE_OFFERED         102179 non-null  object \n",
      " 61  GSLO                 102179 non-null  object \n",
      " 62  GSHI                 102179 non-null  object \n",
      " 63  LEVEL                102179 non-null  object \n",
      " 64  IGOFFERED            102179 non-null  object \n",
      "dtypes: float64(3), int64(1), object(61)\n",
      "memory usage: 50.7+ MB\n"
     ]
    }
   ],
   "source": [
    "school_information.info()"
   ]
  },
  {
   "cell_type": "markdown",
   "metadata": {
    "id": "HtlBtTp6Muhk"
   },
   "source": [
    "## Summary"
   ]
  },
  {
   "cell_type": "markdown",
   "metadata": {
    "id": "oWFY_MWHAOnk"
   },
   "source": [
    "1.  The school information data set is much larger than the EdGap data set. Clearly the EdGap data set does not include all schools.\n",
    "\n",
    "2.  There are missing values in each data set.\n",
    "\n",
    "3.  Each data set is in a tidy, or long format.\n",
    "\n",
    "4.  The data types for the variables of interest look correct, but the school identifier is an `object` in the EdGap data set and a `float64` in the school information data set."
   ]
  },
  {
   "cell_type": "markdown",
   "metadata": {
    "id": "35pKxSfb2zIs"
   },
   "source": [
    "# Are the data suitable for answering the question?"
   ]
  },
  {
   "cell_type": "markdown",
   "metadata": {
    "id": "lviU3Q7YDUBx"
   },
   "source": [
    "We want to perform quick exploratory data analysis to determine whether the data are sufficient to answer our question. If the data are not sufficient, we do not want to waste time doing anything that will not be productive.\n"
   ]
  },
  {
   "cell_type": "markdown",
   "metadata": {
    "id": "OtGVAg7riIT0"
   },
   "source": [
    "Make a pair plot to explore relationships between the variables."
   ]
  },
  {
   "cell_type": "code",
   "execution_count": null,
   "metadata": {
    "colab": {
     "base_uri": "https://localhost:8080/",
     "height": 913
    },
    "id": "i8EpOb4nE1ir",
    "outputId": "b0394d14-8263-45ca-a109-0f0b14ab9d94"
   },
   "outputs": [],
   "source": [
    "sns.pairplot(\n",
    "    edgap.drop(columns=\"NCESSCH School ID\")\n",
    ");\n",
    "plt.show()"
   ]
  },
  {
   "cell_type": "markdown",
   "metadata": {
    "id": "olKwSxr4BMMj"
   },
   "source": [
    "<pre>\n",
    "\n",
    "\n",
    "\n",
    "\n",
    "\n",
    "\n",
    "\n",
    "\n",
    "\n",
    "\n",
    "\n",
    "\n",
    "\n",
    "\n",
    "\n",
    "\n",
    "\n",
    "\n",
    "\n",
    "\n",
    "\n",
    "\n",
    "\n",
    "\n",
    "</pre>"
   ]
  },
  {
   "cell_type": "markdown",
   "metadata": {
    "id": "R3Hhl26pu4qu"
   },
   "source": [
    "##### Add regression lines and format the pair plot"
   ]
  },
  {
   "cell_type": "code",
   "execution_count": null,
   "metadata": {
    "colab": {
     "base_uri": "https://localhost:8080/",
     "height": 1000
    },
    "id": "TOKXWSopPiC1",
    "outputId": "c05818df-ed48-4732-ccf8-4afa84756cd0"
   },
   "outputs": [],
   "source": [
    "fig = sns.pairplot(\n",
    "    edgap.drop(columns=\"NCESSCH School ID\"),\n",
    "    kind=\"reg\",\n",
    "    plot_kws={\n",
    "        \"line_kws\": {\"color\": \"blue\"},\n",
    "        \"scatter_kws\": {\"alpha\": 0.5, \"color\": \"k\", \"s\": 7},\n",
    "    },\n",
    ")\n",
    "\n",
    "for ax in fig.axes.flat:\n",
    "    if ax.get_xlabel() == 'CT Median Household Income':\n",
    "        ax.ticklabel_format(style='sci', axis='x', scilimits=(0,0))  # Apply scientific notation\n",
    "    ax.set_xlabel(ax.get_xlabel(), fontsize=8, rotation=30, ha='right')  # X-axis label size and rotation\n",
    "    ax.set_ylabel(ax.get_ylabel(), fontsize=8)  # Y-axis label size\n",
    "\n",
    "    # Rotate x-axis tick labels\n",
    "    plt.setp(ax.get_xticklabels(), rotation=30, ha='right')\n",
    "\n",
    "\n",
    "plt.show()"
   ]
  },
  {
   "cell_type": "markdown",
   "metadata": {
    "id": "TKILtLTdu9SA"
   },
   "source": [
    "<pre>\n",
    "\n",
    "\n",
    "\n",
    "\n",
    "\n",
    "\n",
    "\n",
    "\n",
    "\n",
    "\n",
    "\n",
    "\n",
    "\n",
    "\n",
    "\n",
    "\n",
    "\n",
    "\n",
    "\n",
    "\n",
    "\n",
    "\n",
    "\n",
    "\n",
    "</pre>"
   ]
  },
  {
   "cell_type": "markdown",
   "metadata": {
    "id": "SUl5z-gIy3Em"
   },
   "source": [
    "##### Plot a single row"
   ]
  },
  {
   "cell_type": "code",
   "execution_count": null,
   "metadata": {
    "colab": {
     "base_uri": "https://localhost:8080/",
     "height": 252
    },
    "id": "FH6HuqifNntP",
    "outputId": "8f0510a6-ddb1-4cec-bb29-47aeb2543c1d"
   },
   "outputs": [],
   "source": [
    "fig = sns.pairplot(\n",
    "    edgap.drop(columns=\"NCESSCH School ID\"),\n",
    "    y_vars=['School ACT average (or equivalent if SAT score)'],\n",
    "    kind=\"reg\",\n",
    "    plot_kws={\n",
    "        \"line_kws\": {\"color\": \"blue\"},\n",
    "        \"scatter_kws\": {\"alpha\": 0.5, \"color\": \"k\", \"s\": 7},\n",
    "    },\n",
    ")\n",
    "\n",
    "for ax in fig.axes.flat:\n",
    "    if ax.get_xlabel() == 'CT Median Household Income':\n",
    "        ax.ticklabel_format(style='sci', axis='x', scilimits=(0,0))  # Apply scientific notation\n",
    "    ax.set_xlabel(ax.get_xlabel(), fontsize=8, rotation=30, ha='right')  # X-axis label size and rotation\n",
    "    ax.set_ylabel(ax.get_ylabel(), fontsize=8)  # Y-axis label size\n",
    "\n",
    "    # Rotate x-axis tick labels\n",
    "    plt.setp(ax.get_xticklabels(), rotation=30, ha='right')\n",
    "\n",
    "plt.show()"
   ]
  },
  {
   "cell_type": "markdown",
   "metadata": {
    "id": "MhnzqxMqNBN_"
   },
   "source": [
    "<pre>\n",
    "\n",
    "\n",
    "\n",
    "\n",
    "\n",
    "\n",
    "\n",
    "\n",
    "\n",
    "\n",
    "\n",
    "\n",
    "\n",
    "\n",
    "\n",
    "\n",
    "\n",
    "\n",
    "\n",
    "\n",
    "\n",
    "\n",
    "\n",
    "\n",
    "</pre>"
   ]
  },
  {
   "cell_type": "markdown",
   "metadata": {
    "id": "SYsMsANuzYLW"
   },
   "source": [
    "## Summary"
   ]
  },
  {
   "cell_type": "markdown",
   "metadata": {
    "id": "kSQZIcaEzmpt"
   },
   "source": [
    "1. There appears to be a relationship between the socioeconomic variables and the ACT score.\n",
    "\n",
    "2.  There are some out-of-range ACT and percent lunch values that will need to be dealt with.\n",
    "\n",
    "3.  We should have confidence that it is worthwhile to spend time preparing the data for analysis."
   ]
  },
  {
   "cell_type": "markdown",
   "metadata": {
    "id": "yyPkyhPhzn4G"
   },
   "source": [
    "<pre>\n",
    "\n",
    "\n",
    "\n",
    "\n",
    "\n",
    "\n",
    "\n",
    "\n",
    "\n",
    "\n",
    "\n",
    "\n",
    "\n",
    "\n",
    "\n",
    "\n",
    "\n",
    "\n",
    "\n",
    "\n",
    "\n",
    "\n",
    "\n",
    "\n",
    "\n",
    "\n",
    "\n",
    "\n",
    "\n",
    "</pre>"
   ]
  },
  {
   "cell_type": "markdown",
   "metadata": {
    "id": "20opfkzOB7Nk"
   },
   "source": [
    "# Data Preparation"
   ]
  },
  {
   "cell_type": "markdown",
   "metadata": {
    "id": "HbsdH56_ijIS"
   },
   "source": [
    "## Select relevant subsets of the data"
   ]
  },
  {
   "cell_type": "markdown",
   "metadata": {
    "id": "pkgfwkedip-C"
   },
   "source": [
    "The school information data set contains many columns. We only need the year, school identity, location, and school type information.\n",
    "\n",
    "Keep the columns `SCHOOL_YEAR`, `NCESSCH`, `LSTATE`, `LZIP`, `SCH_TYPE_TEXT`, `LEVEL`, `CHARTER_TEXT`"
   ]
  },
  {
   "cell_type": "code",
   "execution_count": null,
   "metadata": {
    "id": "BbKrJBPL5kxR"
   },
   "outputs": [],
   "source": [
    "school_information = school_information[\n",
    "    ['SCHOOL_YEAR', 'NCESSCH', 'LSTATE', 'LZIP', 'SCH_TYPE_TEXT', 'LEVEL', 'CHARTER_TEXT']\n",
    "]"
   ]
  },
  {
   "cell_type": "code",
   "execution_count": null,
   "metadata": {
    "colab": {
     "base_uri": "https://localhost:8080/",
     "height": 206
    },
    "id": "H4Xrdb4651qO",
    "outputId": "6209daea-9bd6-48e6-8c74-e48b30f1bfe7"
   },
   "outputs": [],
   "source": [
    "school_information.head()"
   ]
  },
  {
   "cell_type": "markdown",
   "metadata": {
    "id": "hI46ONfL1M0Y"
   },
   "source": [
    "<pre>\n",
    "\n",
    "\n",
    "\n",
    "\n",
    "\n",
    "\n",
    "\n",
    "\n",
    "\n",
    "\n",
    "\n",
    "\n",
    "\n",
    "\n",
    "\n",
    "\n",
    "\n",
    "\n",
    "\n",
    "\n",
    "\n",
    "\n",
    "\n",
    "\n",
    "</pre>"
   ]
  },
  {
   "cell_type": "markdown",
   "metadata": {
    "id": "3wvK6vF-85aX"
   },
   "source": [
    "## Rename columns"
   ]
  },
  {
   "cell_type": "markdown",
   "metadata": {
    "id": "16Jn8JjIDngD"
   },
   "source": [
    "We will rename the columns to follow best practices of style and being informative. We can do this before or after joining the data sets. We will do it before joining the data sets to make it obvious that the key has the same name in each data set (this isn't required, but it makes your work easier to read)."
   ]
  },
  {
   "cell_type": "code",
   "execution_count": null,
   "metadata": {
    "id": "YzDPtS_vOgQd"
   },
   "outputs": [],
   "source": [
    "edgap = edgap.rename(\n",
    "    columns={\n",
    "        \"NCESSCH School ID\": \"id\",\n",
    "        \"CT Pct Adults with College Degree\": \"percent_college\",\n",
    "        \"CT Unemployment Rate\": \"rate_unemployment\",\n",
    "        \"CT Pct Childre In Married Couple Family\": \"percent_married\",\n",
    "        \"CT Median Household Income\": \"median_income\",\n",
    "        \"School ACT average (or equivalent if SAT score)\": \"average_act\",\n",
    "        \"School Pct Free and Reduced Lunch\": \"percent_lunch\",\n",
    "    }\n",
    ")"
   ]
  },
  {
   "cell_type": "markdown",
   "metadata": {
    "id": "1GM9jQrY1fKB"
   },
   "source": [
    "<pre>\n",
    "\n",
    "\n",
    "\n",
    "\n",
    "\n",
    "\n",
    "\n",
    "\n",
    "\n",
    "\n",
    "\n",
    "\n",
    "\n",
    "\n",
    "\n",
    "\n",
    "\n",
    "\n",
    "\n",
    "\n",
    "\n",
    "\n",
    "\n",
    "\n",
    "</pre>"
   ]
  },
  {
   "cell_type": "markdown",
   "metadata": {
    "id": "qVuEIRuWix51"
   },
   "source": [
    "##### Rename the columns `SCHOOL_YEAR`, `NCESSCH`, `LSTATE`, `LZIP`, `SCH_TYPE_TEXT`, `LEVEL`, `CHARTER_TEXT` to `year`, `id`, `state`, `zip_code`, `school_type`, `school_level`, `charter`"
   ]
  },
  {
   "cell_type": "code",
   "execution_count": null,
   "metadata": {
    "id": "vLqqbu2aPUKz"
   },
   "outputs": [],
   "source": [
    "school_information = school_information.rename(\n",
    "    columns={\n",
    "        \"SCHOOL_YEAR\": \"year\",\n",
    "        \"NCESSCH\": \"id\",\n",
    "        \"LSTATE\": \"state\",\n",
    "        \"LZIP\": \"zip_code\",\n",
    "        \"SCH_TYPE_TEXT\": \"school_type\",\n",
    "        \"LEVEL\": \"school_level\",\n",
    "        \"CHARTER_TEXT\": \"charter\"\n",
    "    }\n",
    ")"
   ]
  },
  {
   "cell_type": "code",
   "execution_count": null,
   "metadata": {
    "colab": {
     "base_uri": "https://localhost:8080/",
     "height": 226
    },
    "id": "Lg1BobXY90xI",
    "outputId": "c4ce72c2-b620-4cbd-fc1a-d42b1ccbde19"
   },
   "outputs": [],
   "source": [
    "edgap.head()"
   ]
  },
  {
   "cell_type": "code",
   "execution_count": null,
   "metadata": {
    "colab": {
     "base_uri": "https://localhost:8080/",
     "height": 206
    },
    "id": "2-qLpnoC93lc",
    "outputId": "a7df150e-8da2-4461-83fa-0f152a29a735"
   },
   "outputs": [],
   "source": [
    "school_information.head()"
   ]
  },
  {
   "cell_type": "markdown",
   "metadata": {
    "id": "cRfaGoxj1p6C"
   },
   "source": [
    "<pre>\n",
    "\n",
    "\n",
    "\n",
    "\n",
    "\n",
    "\n",
    "\n",
    "\n",
    "\n",
    "\n",
    "\n",
    "\n",
    "\n",
    "\n",
    "\n",
    "\n",
    "\n",
    "\n",
    "\n",
    "\n",
    "\n",
    "\n",
    "\n",
    "\n",
    "</pre>"
   ]
  },
  {
   "cell_type": "markdown",
   "metadata": {
    "id": "L-5c3W-0Vk04"
   },
   "source": [
    "## Summary"
   ]
  },
  {
   "cell_type": "markdown",
   "metadata": {
    "id": "tviogzulVk04"
   },
   "source": [
    "1. We selected a subset of columns of the school information data set.\n",
    "\n",
    "2.  We renamed the columns for clarity and to follow formatting guidelines.\n",
    "\n",
    "3.  We are ready to join the data frames."
   ]
  },
  {
   "cell_type": "markdown",
   "metadata": {
    "id": "K7Csbn4GVk04"
   },
   "source": [
    "<pre>\n",
    "\n",
    "\n",
    "\n",
    "\n",
    "\n",
    "\n",
    "\n",
    "\n",
    "\n",
    "\n",
    "\n",
    "\n",
    "\n",
    "\n",
    "\n",
    "\n",
    "\n",
    "\n",
    "\n",
    "\n",
    "\n",
    "\n",
    "\n",
    "\n",
    "\n",
    "\n",
    "\n",
    "\n",
    "\n",
    "</pre>"
   ]
  },
  {
   "cell_type": "markdown",
   "metadata": {
    "id": "BkCnFJdVryvv"
   },
   "source": [
    "# Join data frames"
   ]
  },
  {
   "cell_type": "markdown",
   "metadata": {
    "id": "czg-VgjJfeQr"
   },
   "source": [
    "We want to join the DataFrames using the identity of the school as the key. The identity is given by the NCESSCH school identity. The value is an `object` in the EdGap data set and a `float64` in the school information data set.\n",
    "\n",
    "We will cast the `id` column in the `school_information` DataFrame as an `object`."
   ]
  },
  {
   "cell_type": "code",
   "execution_count": null,
   "metadata": {
    "id": "s2laQSaihHr6"
   },
   "outputs": [],
   "source": [
    "school_information['id'] = school_information['id'].astype('object')"
   ]
  },
  {
   "cell_type": "code",
   "execution_count": null,
   "metadata": {
    "colab": {
     "base_uri": "https://localhost:8080/"
    },
    "id": "sKWyHKJfhaCI",
    "outputId": "881f0f53-afe0-4fdf-da8b-2b80d77f7fed"
   },
   "outputs": [],
   "source": [
    "school_information.info()"
   ]
  },
  {
   "cell_type": "markdown",
   "metadata": {
    "id": "eSttv1Av2ZSc"
   },
   "source": [
    "<pre>\n",
    "\n",
    "\n",
    "\n",
    "\n",
    "\n",
    "\n",
    "\n",
    "\n",
    "\n",
    "\n",
    "\n",
    "\n",
    "\n",
    "\n",
    "\n",
    "\n",
    "\n",
    "\n",
    "\n",
    "\n",
    "\n",
    "\n",
    "\n",
    "\n",
    "</pre>"
   ]
  },
  {
   "cell_type": "markdown",
   "metadata": {
    "id": "XzsD_BV6A5kA"
   },
   "source": [
    "##### Join the data frames and call the result `df`."
   ]
  },
  {
   "cell_type": "code",
   "execution_count": null,
   "metadata": {
    "id": "NFrORAYPrVex"
   },
   "outputs": [],
   "source": [
    "df = edgap.merge(\n",
    "    school_information,\n",
    "    how='left',\n",
    "    on='id'\n",
    ")"
   ]
  },
  {
   "cell_type": "code",
   "execution_count": null,
   "metadata": {
    "colab": {
     "base_uri": "https://localhost:8080/",
     "height": 313
    },
    "id": "9itKYgNOsjYJ",
    "outputId": "28f68814-e7af-4db6-c34c-1f8b6fb872ac"
   },
   "outputs": [],
   "source": [
    "df.head()"
   ]
  },
  {
   "cell_type": "code",
   "execution_count": null,
   "metadata": {
    "colab": {
     "base_uri": "https://localhost:8080/"
    },
    "id": "ZYtGMp6AL20E",
    "outputId": "6484ea32-fe98-4f24-f67c-4c44d5db0df0"
   },
   "outputs": [],
   "source": [
    "df.info()"
   ]
  },
  {
   "cell_type": "markdown",
   "metadata": {
    "id": "mgT3Q87u2uMV"
   },
   "source": [
    "<pre>\n",
    "\n",
    "\n",
    "\n",
    "\n",
    "\n",
    "\n",
    "\n",
    "\n",
    "\n",
    "\n",
    "\n",
    "\n",
    "\n",
    "\n",
    "\n",
    "\n",
    "\n",
    "\n",
    "\n",
    "\n",
    "\n",
    "\n",
    "\n",
    "\n",
    "</pre>"
   ]
  },
  {
   "cell_type": "markdown",
   "metadata": {
    "id": "xOfOQj91ZvLw"
   },
   "source": [
    "## Summary"
   ]
  },
  {
   "cell_type": "markdown",
   "metadata": {
    "id": "6DgTYp9rZvLw"
   },
   "source": [
    "1. We joined the data sets using the school `id` as the key.\n",
    "\n",
    "2. We first cast the `id` as an object to have the same data type for the key in each data set.\n",
    "\n",
    "3. We used a left join to keep all EdGap data."
   ]
  },
  {
   "cell_type": "markdown",
   "metadata": {
    "id": "nUAgkmBNZvLw"
   },
   "source": [
    "<pre>\n",
    "\n",
    "\n",
    "\n",
    "\n",
    "\n",
    "\n",
    "\n",
    "\n",
    "\n",
    "\n",
    "\n",
    "\n",
    "\n",
    "\n",
    "\n",
    "\n",
    "\n",
    "\n",
    "\n",
    "\n",
    "\n",
    "\n",
    "\n",
    "\n",
    "\n",
    "\n",
    "\n",
    "\n",
    "\n",
    "</pre>"
   ]
  },
  {
   "cell_type": "markdown",
   "metadata": {
    "id": "OgPjzVV5jbI9"
   },
   "source": [
    "# Quality Control"
   ]
  },
  {
   "cell_type": "markdown",
   "metadata": {
    "id": "kzQyctBL6aj8"
   },
   "source": [
    "##### There are natural bounds for the numerical variables in the data set. Check the minimum and maximum values in each column.\n",
    "\n",
    "We can use the `describe()` method to compute descriptive statistics"
   ]
  },
  {
   "cell_type": "code",
   "execution_count": null,
   "metadata": {
    "colab": {
     "base_uri": "https://localhost:8080/",
     "height": 300
    },
    "id": "9CL-YlD6IRJY",
    "outputId": "7a403aec-25d3-4ba1-ae70-393e6c69a5c9"
   },
   "outputs": [],
   "source": [
    "df.describe()"
   ]
  },
  {
   "cell_type": "markdown",
   "metadata": {
    "id": "Qv5ThAzL3yjm"
   },
   "source": [
    "<pre>\n",
    "\n",
    "\n",
    "\n",
    "\n",
    "\n",
    "\n",
    "\n",
    "\n",
    "\n",
    "\n",
    "\n",
    "\n",
    "\n",
    "\n",
    "\n",
    "\n",
    "\n",
    "\n",
    "\n",
    "\n",
    "\n",
    "\n",
    "\n",
    "\n",
    "</pre>"
   ]
  },
  {
   "cell_type": "markdown",
   "metadata": {
    "id": "fRP8xKj6idoB"
   },
   "source": [
    "##### or use the `min` and `max`"
   ]
  },
  {
   "cell_type": "code",
   "execution_count": null,
   "metadata": {
    "colab": {
     "base_uri": "https://localhost:8080/",
     "height": 112
    },
    "id": "ZemXt5Hh6Xqh",
    "outputId": "ef200116-8660-4d4c-e0d2-b875633a51ce"
   },
   "outputs": [],
   "source": [
    "df.select_dtypes(include=['number']).agg(['min', 'max']).round(2)"
   ]
  },
  {
   "cell_type": "markdown",
   "metadata": {
    "id": "JrHqhFj-9ZpQ"
   },
   "source": [
    "<pre>\n",
    "\n",
    "\n",
    "\n",
    "\n",
    "\n",
    "\n",
    "\n",
    "\n",
    "\n",
    "\n",
    "\n",
    "\n",
    "\n",
    "\n",
    "\n",
    "\n",
    "\n",
    "\n",
    "\n",
    "\n",
    "\n",
    "\n",
    "\n",
    "\n",
    "\n",
    "\n",
    "\n",
    "\n",
    "\n",
    "\n",
    "\n",
    "\n",
    "</pre>"
   ]
  },
  {
   "cell_type": "markdown",
   "metadata": {
    "id": "c5p-cQLo6kll"
   },
   "source": [
    "##### Set out-of-range values to `NaN` using `np.nan`."
   ]
  },
  {
   "cell_type": "code",
   "execution_count": null,
   "metadata": {
    "id": "T8l3HdrxLRsZ"
   },
   "outputs": [],
   "source": [
    "df.loc[df['percent_lunch'] < 0, 'percent_lunch'] = np.nan"
   ]
  },
  {
   "cell_type": "code",
   "execution_count": null,
   "metadata": {
    "id": "6k3MM2FiK4J9"
   },
   "outputs": [],
   "source": [
    "df.loc[df['average_act'] < 1, 'average_act'] = np.nan"
   ]
  },
  {
   "cell_type": "markdown",
   "metadata": {
    "id": "70r4Ve_L9mnr"
   },
   "source": [
    "<pre>\n",
    "\n",
    "\n",
    "\n",
    "\n",
    "\n",
    "\n",
    "\n",
    "\n",
    "\n",
    "\n",
    "\n",
    "\n",
    "\n",
    "\n",
    "\n",
    "\n",
    "\n",
    "\n",
    "\n",
    "\n",
    "\n",
    "\n",
    "\n",
    "\n",
    "\n",
    "\n",
    "\n",
    "\n",
    "\n",
    "</pre>"
   ]
  },
  {
   "cell_type": "markdown",
   "metadata": {
    "id": "28up4qASPocP"
   },
   "source": [
    "##### Check the types, levels, and charter status of schools"
   ]
  },
  {
   "cell_type": "code",
   "execution_count": null,
   "metadata": {
    "colab": {
     "base_uri": "https://localhost:8080/",
     "height": 241
    },
    "id": "_oZ7M1yFP5kD",
    "outputId": "f0ae971e-8a06-4530-fdf6-d5d54af2bcf9"
   },
   "outputs": [],
   "source": [
    "df['school_type'].value_counts()"
   ]
  },
  {
   "cell_type": "code",
   "execution_count": null,
   "metadata": {
    "colab": {
     "base_uri": "https://localhost:8080/",
     "height": 241
    },
    "id": "iUe-95TsP-S8",
    "outputId": "6c685a89-476c-481a-ee50-26e6be22c981"
   },
   "outputs": [],
   "source": [
    "df['school_level'].value_counts()"
   ]
  },
  {
   "cell_type": "code",
   "execution_count": null,
   "metadata": {
    "colab": {
     "base_uri": "https://localhost:8080/",
     "height": 209
    },
    "id": "1kxtU21cdlum",
    "outputId": "cc091c9b-c255-4c11-ae0f-16f31fa69e22"
   },
   "outputs": [],
   "source": [
    "df['charter'].value_counts()"
   ]
  },
  {
   "cell_type": "markdown",
   "metadata": {
    "id": "gSZ0a1mJ9uvN"
   },
   "source": [
    "<pre>\n",
    "\n",
    "\n",
    "\n",
    "\n",
    "\n",
    "\n",
    "\n",
    "\n",
    "\n",
    "\n",
    "\n",
    "\n",
    "\n",
    "\n",
    "\n",
    "\n",
    "\n",
    "\n",
    "\n",
    "\n",
    "\n",
    "\n",
    "\n",
    "\n",
    "\n",
    "\n",
    "\n",
    "\n",
    "\n",
    "</pre>"
   ]
  },
  {
   "cell_type": "markdown",
   "metadata": {
    "id": "TdbEIeH4Genv"
   },
   "source": [
    "##### Keep only the high schools."
   ]
  },
  {
   "cell_type": "code",
   "execution_count": null,
   "metadata": {
    "id": "tdda0OUBIWuA"
   },
   "outputs": [],
   "source": [
    "df = df.loc[df['school_level'] == 'High']"
   ]
  },
  {
   "cell_type": "markdown",
   "metadata": {
    "id": "xRI03zTY90EV"
   },
   "source": [
    "<pre>\n",
    "\n",
    "\n",
    "\n",
    "\n",
    "\n",
    "\n",
    "\n",
    "\n",
    "\n",
    "\n",
    "\n",
    "\n",
    "\n",
    "\n",
    "\n",
    "\n",
    "\n",
    "\n",
    "\n",
    "\n",
    "\n",
    "\n",
    "\n",
    "\n",
    "\n",
    "\n",
    "\n",
    "\n",
    "\n",
    "\n",
    "\n",
    "\n",
    "</pre>"
   ]
  },
  {
   "cell_type": "markdown",
   "metadata": {
    "id": "hYwFIB4A7a54"
   },
   "source": [
    "##### Check for any duplicated rows"
   ]
  },
  {
   "cell_type": "code",
   "execution_count": null,
   "metadata": {
    "colab": {
     "base_uri": "https://localhost:8080/"
    },
    "id": "Dv2h4OHi65lc",
    "outputId": "a06a97a8-d8fb-46dd-91b1-1385ff05ecbb"
   },
   "outputs": [],
   "source": [
    "df.duplicated().sum()"
   ]
  },
  {
   "cell_type": "markdown",
   "metadata": {
    "id": "UR0nyQXN99Yq"
   },
   "source": [
    "<pre>\n",
    "\n",
    "\n",
    "\n",
    "\n",
    "\n",
    "\n",
    "\n",
    "\n",
    "\n",
    "\n",
    "\n",
    "\n",
    "\n",
    "\n",
    "\n",
    "\n",
    "\n",
    "\n",
    "\n",
    "\n",
    "\n",
    "\n",
    "\n",
    "\n",
    "\n",
    "\n",
    "\n",
    "\n",
    "</pre>"
   ]
  },
  {
   "cell_type": "markdown",
   "metadata": {
    "id": "CMc6t7HtpLxk"
   },
   "source": [
    "##### It is possible that there are incorrectly recorded values in the data set, but we will not go that far in this example."
   ]
  },
  {
   "cell_type": "markdown",
   "metadata": {
    "id": "Je6vygeb9_oa"
   },
   "source": [
    "<pre>\n",
    "\n",
    "\n",
    "\n",
    "\n",
    "\n",
    "\n",
    "\n",
    "\n",
    "\n",
    "\n",
    "\n",
    "\n",
    "\n",
    "\n",
    "\n",
    "\n",
    "\n",
    "\n",
    "\n",
    "\n",
    "\n",
    "\n",
    "\n",
    "\n",
    "</pre>"
   ]
  },
  {
   "cell_type": "markdown",
   "metadata": {
    "id": "aAaUY6N1rtoa"
   },
   "source": [
    "## Identify missing values"
   ]
  },
  {
   "cell_type": "markdown",
   "metadata": {
    "id": "7yrJZMs8Onpn"
   },
   "source": [
    "How many values of each variable are missing?"
   ]
  },
  {
   "cell_type": "code",
   "execution_count": null,
   "metadata": {
    "colab": {
     "base_uri": "https://localhost:8080/",
     "height": 457
    },
    "id": "SzJ4LmQzOq1a",
    "outputId": "a2fa8d48-e41a-4bde-f729-948215d688f2"
   },
   "outputs": [],
   "source": [
    "df.isna().sum().to_frame(name='Number of Missing Values')"
   ]
  },
  {
   "cell_type": "markdown",
   "metadata": {
    "id": "dNyYAb9i-LvW"
   },
   "source": [
    "<pre>\n",
    "\n",
    "\n",
    "\n",
    "\n",
    "\n",
    "\n",
    "\n",
    "\n",
    "\n",
    "\n",
    "\n",
    "\n",
    "\n",
    "\n",
    "\n",
    "\n",
    "\n",
    "\n",
    "\n",
    "\n",
    "\n",
    "\n",
    "\n",
    "\n",
    "</pre>"
   ]
  },
  {
   "cell_type": "markdown",
   "metadata": {
    "id": "2MkZsTFpkd7k"
   },
   "source": [
    "##### What percentage of values of each variable are missing?"
   ]
  },
  {
   "cell_type": "code",
   "execution_count": null,
   "metadata": {
    "colab": {
     "base_uri": "https://localhost:8080/",
     "height": 457
    },
    "id": "CY_Gu7PhT-uV",
    "outputId": "bcc99e77-d09f-4f1b-8e8b-d332014d1058"
   },
   "outputs": [],
   "source": [
    "percent_missing = df.isna().mean().round(4) * 100\n",
    "\n",
    "percent_missing.to_frame(name='Percent Missing Values')"
   ]
  },
  {
   "cell_type": "markdown",
   "metadata": {
    "id": "fMUbdf5r-OrG"
   },
   "source": [
    "<pre>\n",
    "\n",
    "\n",
    "\n",
    "\n",
    "\n",
    "\n",
    "\n",
    "\n",
    "\n",
    "\n",
    "\n",
    "\n",
    "\n",
    "\n",
    "\n",
    "\n",
    "\n",
    "\n",
    "\n",
    "\n",
    "\n",
    "\n",
    "\n",
    "\n",
    "</pre>"
   ]
  },
  {
   "cell_type": "markdown",
   "metadata": {
    "id": "kbG6IuGiQIj5"
   },
   "source": [
    "##### What states do we have data from?"
   ]
  },
  {
   "cell_type": "code",
   "execution_count": null,
   "metadata": {
    "colab": {
     "base_uri": "https://localhost:8080/",
     "height": 742
    },
    "id": "kqbKvwN0bX_N",
    "outputId": "460adb9f-13ab-48cd-8c77-9025086584df"
   },
   "outputs": [],
   "source": [
    "df['state'].value_counts()"
   ]
  },
  {
   "cell_type": "code",
   "execution_count": null,
   "metadata": {
    "colab": {
     "base_uri": "https://localhost:8080/"
    },
    "id": "mMIooFmRcs-v",
    "outputId": "f32a3b42-46cd-4ed9-b0c9-bf3d54ea4ee4"
   },
   "outputs": [],
   "source": [
    "df['state'].nunique()"
   ]
  },
  {
   "cell_type": "markdown",
   "metadata": {
    "id": "Nr_aQPAY-smE"
   },
   "source": [
    "<pre>\n",
    "\n",
    "\n",
    "\n",
    "\n",
    "\n",
    "\n",
    "\n",
    "\n",
    "\n",
    "\n",
    "\n",
    "\n",
    "\n",
    "\n",
    "\n",
    "\n",
    "\n",
    "\n",
    "\n",
    "\n",
    "\n",
    "\n",
    "\n",
    "\n",
    "</pre>"
   ]
  },
  {
   "cell_type": "markdown",
   "metadata": {
    "id": "-ifDNM3g-t1y"
   },
   "source": [
    "##### Plot the results on a map"
   ]
  },
  {
   "cell_type": "code",
   "execution_count": null,
   "metadata": {
    "id": "zKcRVD9r-3Gr"
   },
   "outputs": [],
   "source": [
    "import plotly.offline as po\n",
    "import plotly.graph_objs as pg"
   ]
  },
  {
   "cell_type": "code",
   "execution_count": null,
   "metadata": {
    "colab": {
     "base_uri": "https://localhost:8080/",
     "height": 542
    },
    "id": "dCVbOg_rTQZw",
    "outputId": "bd7a5129-374c-4154-9c62-c06091a96d59"
   },
   "outputs": [],
   "source": [
    "layout = dict(\n",
    "    geo={\"scope\": \"usa\"}, coloraxis_colorbar=dict(title=\"Number of Schools\")\n",
    ")\n",
    "\n",
    "data = dict(\n",
    "    type=\"choropleth\",\n",
    "    locations=df[\"state\"].value_counts().index,\n",
    "    locationmode=\"USA-states\",\n",
    "    z=df[\"state\"].value_counts().values,\n",
    "    coloraxis=\"coloraxis\",\n",
    ")\n",
    "\n",
    "x = pg.Figure(data=[data], layout=layout)\n",
    "\n",
    "po.iplot(x)"
   ]
  },
  {
   "cell_type": "markdown",
   "metadata": {
    "id": "fE2Mvf95-6ce"
   },
   "source": [
    "<pre>\n",
    "\n",
    "\n",
    "\n",
    "\n",
    "\n",
    "\n",
    "\n",
    "\n",
    "\n",
    "\n",
    "\n",
    "\n",
    "\n",
    "\n",
    "\n",
    "\n",
    "\n",
    "\n",
    "\n",
    "\n",
    "\n",
    "\n",
    "\n",
    "\n",
    "</pre>"
   ]
  },
  {
   "cell_type": "markdown",
   "metadata": {
    "id": "zhxcT_2FkutO"
   },
   "source": [
    "##### We are missing a large amount of USA data due to omission. This is not evident by examining `NaN` values in the data set.\n",
    "\n",
    "We could obtain this information from public records, but we will not do that here."
   ]
  },
  {
   "cell_type": "markdown",
   "metadata": {
    "id": "2Cd17w_KcgOm"
   },
   "source": [
    "<pre>\n",
    "\n",
    "\n",
    "\n",
    "\n",
    "\n",
    "\n",
    "\n",
    "\n",
    "\n",
    "\n",
    "\n",
    "\n",
    "\n",
    "\n",
    "\n",
    "\n",
    "\n",
    "\n",
    "\n",
    "\n",
    "\n",
    "\n",
    "\n",
    "\n",
    "</pre>"
   ]
  },
  {
   "cell_type": "markdown",
   "metadata": {
    "id": "FBsfcd_--YvX"
   },
   "source": [
    "\n",
    "\n",
    "##### Drop the rows where the average ACT score is missing\n"
   ]
  },
  {
   "cell_type": "code",
   "execution_count": null,
   "metadata": {
    "id": "atVZHNGxBVPI"
   },
   "outputs": [],
   "source": [
    "df = df.dropna(subset=['average_act'])"
   ]
  },
  {
   "cell_type": "code",
   "execution_count": null,
   "metadata": {
    "colab": {
     "base_uri": "https://localhost:8080/",
     "height": 457
    },
    "id": "Cpj2SHZ2lmvJ",
    "outputId": "b53b50f8-5b02-4377-e0f2-0bed9778f126"
   },
   "outputs": [],
   "source": [
    "df.isna().sum().to_frame(name='Number of Missing Values')"
   ]
  },
  {
   "cell_type": "markdown",
   "metadata": {
    "id": "U4VpvSrgdTqK"
   },
   "source": [
    "<pre>\n",
    "\n",
    "\n",
    "\n",
    "\n",
    "\n",
    "\n",
    "\n",
    "\n",
    "\n",
    "\n",
    "\n",
    "\n",
    "\n",
    "\n",
    "\n",
    "\n",
    "\n",
    "\n",
    "\n",
    "\n",
    "\n",
    "\n",
    "\n",
    "\n",
    "</pre>"
   ]
  },
  {
   "cell_type": "markdown",
   "metadata": {
    "id": "lhumVw7hcdcz"
   },
   "source": [
    "##### If we drop rows that have `NaNs` for any socioeconomic variables, then we will negatively affect our analysis using the variables where data were present. So, we will not drop the rows in this data set that are missing the socioeconomic variables. We will impute the missing values."
   ]
  },
  {
   "cell_type": "markdown",
   "metadata": {
    "id": "NbAJ2bpxesFE"
   },
   "source": [
    "<pre>\n",
    "\n",
    "\n",
    "\n",
    "\n",
    "\n",
    "\n",
    "\n",
    "\n",
    "\n",
    "\n",
    "\n",
    "\n",
    "\n",
    "\n",
    "\n",
    "\n",
    "\n",
    "\n",
    "\n",
    "\n",
    "\n",
    "\n",
    "\n",
    "\n",
    "</pre>"
   ]
  },
  {
   "cell_type": "markdown",
   "metadata": {
    "id": "B3Y12Ir_dnqW"
   },
   "source": [
    "## Summary"
   ]
  },
  {
   "cell_type": "markdown",
   "metadata": {
    "id": "eMuhcqwzdnqW"
   },
   "source": [
    "1. We set out-of-range values to `NaN` and will impute them.\n",
    "\n",
    "2. We kept only high schools.\n",
    "\n",
    "3.  We removed schools where we do not have the ACT score.\n",
    "\n",
    "4.  Many schools are missing from the data by omission.\n",
    "\n",
    "5.  We will impute missing values of socioeconomic variables."
   ]
  },
  {
   "cell_type": "markdown",
   "metadata": {
    "id": "G2QeK5aLdnqW"
   },
   "source": [
    "<pre>\n",
    "\n",
    "\n",
    "\n",
    "\n",
    "\n",
    "\n",
    "\n",
    "\n",
    "\n",
    "\n",
    "\n",
    "\n",
    "\n",
    "\n",
    "\n",
    "\n",
    "\n",
    "\n",
    "\n",
    "\n",
    "\n",
    "\n",
    "\n",
    "\n",
    "\n",
    "\n",
    "\n",
    "\n",
    "\n",
    "</pre>"
   ]
  },
  {
   "cell_type": "markdown",
   "metadata": {
    "id": "AM98iKFqk8wM"
   },
   "source": [
    "# Data imputation"
   ]
  },
  {
   "cell_type": "markdown",
   "metadata": {
    "id": "mCAJeAxVmpNZ"
   },
   "source": [
    "##### Define the predictor variables to be `rate_unemployment`, `percent_college`, `percent_married`, `median_income`, `percent_lunch`, `state`, and `charter`."
   ]
  },
  {
   "cell_type": "code",
   "execution_count": null,
   "metadata": {
    "id": "CGEMvOdpdx3n"
   },
   "outputs": [],
   "source": [
    "predictor_variables = [\n",
    "    'rate_unemployment',\n",
    "    'percent_college',\n",
    "    'percent_married',\n",
    "    'median_income',\n",
    "    'percent_lunch',\n",
    "    'state',\n",
    "    'charter'\n",
    "]"
   ]
  },
  {
   "cell_type": "markdown",
   "metadata": {
    "id": "qkRxfPX8UFiK"
   },
   "source": [
    "<pre>\n",
    "\n",
    "\n",
    "\n",
    "\n",
    "\n",
    "\n",
    "\n",
    "\n",
    "\n",
    "\n",
    "\n",
    "\n",
    "\n",
    "\n",
    "\n",
    "\n",
    "\n",
    "\n",
    "\n",
    "\n",
    "\n",
    "\n",
    "\n",
    "\n",
    "</pre>"
   ]
  },
  {
   "cell_type": "markdown",
   "metadata": {
    "id": "cov0jpiQGxvw"
   },
   "source": [
    "##### Use the iterative imputer to replace missing values in the columns corresponding to predictor variables in the analysis.\n",
    "\n"
   ]
  },
  {
   "cell_type": "code",
   "execution_count": null,
   "metadata": {
    "id": "ERD-CDOMUo17"
   },
   "outputs": [],
   "source": [
    "from sklearn.experimental import enable_iterative_imputer\n",
    "from sklearn.impute import IterativeImputer"
   ]
  },
  {
   "cell_type": "code",
   "execution_count": null,
   "metadata": {
    "id": "flj_jFCfET6S"
   },
   "outputs": [],
   "source": [
    "imputer = IterativeImputer()"
   ]
  },
  {
   "cell_type": "markdown",
   "metadata": {
    "id": "H4g3DDWiUSEM"
   },
   "source": [
    "<pre>\n",
    "\n",
    "\n",
    "\n",
    "\n",
    "\n",
    "\n",
    "\n",
    "\n",
    "\n",
    "\n",
    "\n",
    "\n",
    "\n",
    "\n",
    "\n",
    "\n",
    "\n",
    "\n",
    "\n",
    "\n",
    "\n",
    "\n",
    "\n",
    "\n",
    "</pre>"
   ]
  },
  {
   "cell_type": "markdown",
   "metadata": {
    "id": "aQ6wDG8BG31e"
   },
   "source": [
    "##### Fit the imputer using the numerical predictor variables (this can include dummies for categorical variables)."
   ]
  },
  {
   "cell_type": "markdown",
   "metadata": {
    "id": "W-PMr4bkYWYR"
   },
   "source": [
    "Define the columns you want to use in the imputation process"
   ]
  },
  {
   "cell_type": "code",
   "execution_count": null,
   "metadata": {
    "colab": {
     "base_uri": "https://localhost:8080/"
    },
    "id": "aIpGmWgorMWN",
    "outputId": "eaf7a718-0b3d-4b48-b812-04f7cbc6f9ab"
   },
   "outputs": [],
   "source": [
    "numerical_predictors = df[predictor_variables].select_dtypes(include='number').columns.to_list()\n",
    "\n",
    "print(numerical_predictors)"
   ]
  },
  {
   "cell_type": "markdown",
   "metadata": {
    "id": "mP4AlO6SfJRO"
   },
   "source": [
    "<pre>\n",
    "\n",
    "\n",
    "\n",
    "\n",
    "\n",
    "\n",
    "\n",
    "\n",
    "\n",
    "\n",
    "\n",
    "\n",
    "\n",
    "\n",
    "\n",
    "\n",
    "\n",
    "\n",
    "\n",
    "\n",
    "\n",
    "\n",
    "\n",
    "\n",
    "</pre>"
   ]
  },
  {
   "cell_type": "markdown",
   "metadata": {
    "id": "XkcmovoxYaoo"
   },
   "source": [
    "##### Fit the imputer"
   ]
  },
  {
   "cell_type": "code",
   "execution_count": null,
   "metadata": {
    "colab": {
     "base_uri": "https://localhost:8080/",
     "height": 80
    },
    "id": "ZGKM5O5VGf0t",
    "outputId": "c255f8ab-6f08-4751-e8e1-efdd8a492ae8"
   },
   "outputs": [],
   "source": [
    "imputer.fit(df.loc[:, numerical_predictors])"
   ]
  },
  {
   "cell_type": "markdown",
   "metadata": {
    "id": "wP_lHcgvfKDc"
   },
   "source": [
    "<pre>\n",
    "\n",
    "\n",
    "\n",
    "\n",
    "\n",
    "\n",
    "\n",
    "\n",
    "\n",
    "\n",
    "\n",
    "\n",
    "\n",
    "\n",
    "\n",
    "\n",
    "\n",
    "\n",
    "\n",
    "\n",
    "\n",
    "\n",
    "\n",
    "\n",
    "</pre>"
   ]
  },
  {
   "cell_type": "markdown",
   "metadata": {
    "id": "LxnxxJ7JHAOU"
   },
   "source": [
    "##### Impute the missing values in the training data."
   ]
  },
  {
   "cell_type": "code",
   "execution_count": null,
   "metadata": {
    "id": "hKXS2keEQ-zr"
   },
   "outputs": [],
   "source": [
    "df.loc[:, numerical_predictors] = imputer.transform(df.loc[:, numerical_predictors])"
   ]
  },
  {
   "cell_type": "markdown",
   "metadata": {
    "id": "lSFhQWOBfKvO"
   },
   "source": [
    "<pre>\n",
    "\n",
    "\n",
    "\n",
    "\n",
    "\n",
    "\n",
    "\n",
    "\n",
    "\n",
    "\n",
    "\n",
    "\n",
    "\n",
    "\n",
    "\n",
    "\n",
    "\n",
    "\n",
    "\n",
    "\n",
    "\n",
    "\n",
    "\n",
    "\n",
    "</pre>"
   ]
  },
  {
   "cell_type": "markdown",
   "metadata": {
    "id": "EUF-obP3HIna"
   },
   "source": [
    "##### Check for missing values"
   ]
  },
  {
   "cell_type": "code",
   "execution_count": null,
   "metadata": {
    "colab": {
     "base_uri": "https://localhost:8080/",
     "height": 457
    },
    "id": "u4KDCTF1FB3m",
    "outputId": "99e20099-ce81-438f-88da-7dfdcf53e6b8"
   },
   "outputs": [],
   "source": [
    "df.isna().sum().to_frame(name='Number of Missing Values')"
   ]
  },
  {
   "cell_type": "markdown",
   "metadata": {
    "id": "69nDxnxpVZSC"
   },
   "source": [
    "<pre>\n",
    "\n",
    "\n",
    "\n",
    "\n",
    "\n",
    "\n",
    "\n",
    "\n",
    "\n",
    "\n",
    "\n",
    "\n",
    "\n",
    "\n",
    "\n",
    "\n",
    "\n",
    "\n",
    "\n",
    "\n",
    "\n",
    "\n",
    "\n",
    "\n",
    "</pre>"
   ]
  },
  {
   "cell_type": "markdown",
   "metadata": {
    "id": "fek54sTmW9Hs"
   },
   "source": [
    "###### Export the clean data set"
   ]
  },
  {
   "cell_type": "code",
   "execution_count": null,
   "metadata": {
    "id": "0nSJPpQcATGm"
   },
   "outputs": [],
   "source": [
    "df.to_csv(\n",
    "    'education_clean.csv',\n",
    "    encoding='utf-8-sig',\n",
    "    index=False\n",
    ")"
   ]
  },
  {
   "cell_type": "code",
   "execution_count": null,
   "metadata": {
    "id": "cHIvmbL7i728"
   },
   "outputs": [],
   "source": [
    "from google.colab import files\n",
    "\n",
    "files.download('education_clean.csv')"
   ]
  },
  {
   "cell_type": "markdown",
   "metadata": {
    "id": "46DoplKyVfmA"
   },
   "source": [
    "## Summary"
   ]
  },
  {
   "cell_type": "markdown",
   "metadata": {
    "id": "Z5Ri8bxdVfmB"
   },
   "source": [
    "1. We used an interative imputer to estimate missing values of numerical predictor variables\n",
    "\n",
    "2. We saved the clean data frame as a csv file."
   ]
  }
 ],
 "metadata": {
  "colab": {
   "provenance": [],
   "toc_visible": true
  },
  "kernelspec": {
   "display_name": "Python [conda env:base] *",
   "language": "python",
   "name": "conda-base-py"
  },
  "language_info": {
   "codemirror_mode": {
    "name": "ipython",
    "version": 3
   },
   "file_extension": ".py",
   "mimetype": "text/x-python",
   "name": "python",
   "nbconvert_exporter": "python",
   "pygments_lexer": "ipython3",
   "version": "3.13.5"
  }
 },
 "nbformat": 4,
 "nbformat_minor": 4
}
